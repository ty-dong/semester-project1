{
 "cells": [
  {
   "cell_type": "code",
   "execution_count": 1,
   "metadata": {},
   "outputs": [],
   "source": [
    "import pandas as pd"
   ]
  },
  {
   "cell_type": "code",
   "execution_count": 2,
   "metadata": {},
   "outputs": [],
   "source": [
    "import numpy as np"
   ]
  },
  {
   "cell_type": "code",
   "execution_count": 3,
   "metadata": {},
   "outputs": [],
   "source": [
    "pandas = pd.read_table('Dataset.dat')"
   ]
  },
  {
   "cell_type": "code",
   "execution_count": 84,
   "metadata": {},
   "outputs": [],
   "source": [
    "lunch_data_11 = pandas.iloc[np.array((pandas.iloc[:,6]==11)&(pandas.iloc[:,7]>29.9)),:]\n",
    "lunch_data_12 = pandas.iloc[np.array((pandas.iloc[:,6]==12)|(pandas.iloc[:,6]==13)),:]\n",
    "lunch_data = pd.concat([lunch_data_11, lunch_data_12])\n",
    "lunch_data_over10 = lunch_data.iloc[np.array(lunch_data.iloc[:,10]>=10), :]"
   ]
  },
  {
   "cell_type": "code",
   "execution_count": 9,
   "metadata": {
    "scrolled": true
   },
   "outputs": [
    {
     "name": "stderr",
     "output_type": "stream",
     "text": [
      "/Users/tianyangdong/anaconda3/lib/python3.7/site-packages/ipykernel_launcher.py:1: SettingWithCopyWarning: \n",
      "A value is trying to be set on a copy of a slice from a DataFrame\n",
      "\n",
      "See the caveats in the documentation: http://pandas.pydata.org/pandas-docs/stable/indexing.html#indexing-view-versus-copy\n",
      "  \"\"\"Entry point for launching an IPython kernel.\n"
     ]
    }
   ],
   "source": [
    "lunch_data.DURATION[lunch_data.H_END >= 14] = (14 - lunch_data.H_START) * 60 - lunch_data.M_START"
   ]
  },
  {
   "cell_type": "code",
   "execution_count": 10,
   "metadata": {
    "scrolled": true
   },
   "outputs": [
    {
     "data": {
      "text/plain": [
       "13       90.37\n",
       "16       30.58\n",
       "19       12.64\n",
       "20       22.63\n",
       "23       15.00\n",
       "39       90.68\n",
       "40       52.55\n",
       "41       58.70\n",
       "96       13.83\n",
       "142      67.38\n",
       "178      15.00\n",
       "181      49.28\n",
       "206      15.24\n",
       "281      15.10\n",
       "282      10.07\n",
       "289      12.24\n",
       "305     323.13\n",
       "324      35.70\n",
       "342      26.88\n",
       "384      20.50\n",
       "388      17.17\n",
       "465      28.64\n",
       "473      68.38\n",
       "477      32.17\n",
       "486      96.63\n",
       "498     138.84\n",
       "509      31.81\n",
       "538     135.42\n",
       "549     112.51\n",
       "564      32.13\n",
       "         ...  \n",
       "1751     14.58\n",
       "1752    104.23\n",
       "1756    190.38\n",
       "1760     16.50\n",
       "1761     45.20\n",
       "1763    409.93\n",
       "1769     17.70\n",
       "1774     14.68\n",
       "1780     23.39\n",
       "1785     10.68\n",
       "1786     11.50\n",
       "1789     12.88\n",
       "1791     38.74\n",
       "1792     22.01\n",
       "1803     54.39\n",
       "1806     20.68\n",
       "1807     14.55\n",
       "1813     13.12\n",
       "1818     22.33\n",
       "1827     20.17\n",
       "1828     51.56\n",
       "1830     33.97\n",
       "1835     48.24\n",
       "1836     31.85\n",
       "1840     41.37\n",
       "1843     32.14\n",
       "1844    120.40\n",
       "1851     12.21\n",
       "1854     31.55\n",
       "1858     13.49\n",
       "Name: DURATION, Length: 564, dtype: float64"
      ]
     },
     "execution_count": 10,
     "metadata": {},
     "output_type": "execute_result"
    }
   ],
   "source": [
    "lunch_data_over10.DURATION"
   ]
  },
  {
   "cell_type": "code",
   "execution_count": 33,
   "metadata": {},
   "outputs": [],
   "source": [
    "lunchmean2 = lunch_data_over10.groupby(['CHOICE'])"
   ]
  },
  {
   "cell_type": "code",
   "execution_count": 34,
   "metadata": {},
   "outputs": [
    {
     "data": {
      "text/plain": [
       "CHOICE\n",
       "1      13.660000\n",
       "2      74.607143\n",
       "3      52.521818\n",
       "4      65.215143\n",
       "5      24.016667\n",
       "6     112.710000\n",
       "7     112.941250\n",
       "8      56.333158\n",
       "9     109.346154\n",
       "10     43.256667\n",
       "11     29.811458\n",
       "12     86.607714\n",
       "13     41.450946\n",
       "14     27.170000\n",
       "15     34.455190\n",
       "16     41.872083\n",
       "17     45.935714\n",
       "18    106.598333\n",
       "19     75.487273\n",
       "20     42.733448\n",
       "21     55.698571\n",
       "Name: DURATION, dtype: float64"
      ]
     },
     "execution_count": 34,
     "metadata": {},
     "output_type": "execute_result"
    }
   ],
   "source": [
    "lunchmean2.DURATION.mean()"
   ]
  },
  {
   "cell_type": "code",
   "execution_count": 9,
   "metadata": {},
   "outputs": [
    {
     "data": {
      "text/plain": [
       "array([13.66      , 33.91651515, 25.00153846, 30.30181818, 20.29      ,\n",
       "       45.206875  , 53.207     , 40.14789474, 28.46714286, 31.5       ,\n",
       "       21.9860274 , 28.85541667, 38.03853659, 17.675     , 18.67231405,\n",
       "       32.29131313, 35.176     , 27.33      , 31.23      , 36.57314286,\n",
       "       55.69857143])"
      ]
     },
     "execution_count": 9,
     "metadata": {},
     "output_type": "execute_result"
    }
   ],
   "source": [
    "np.array(lunchmean.DURATION.mean())"
   ]
  },
  {
   "cell_type": "code",
   "execution_count": 26,
   "metadata": {},
   "outputs": [],
   "source": [
    "lunch_data_over10_2 = lunch_data;"
   ]
  },
  {
   "cell_type": "code",
   "execution_count": 28,
   "metadata": {},
   "outputs": [
    {
     "name": "stderr",
     "output_type": "stream",
     "text": [
      "/Users/tianyangdong/anaconda3/lib/python3.7/site-packages/ipykernel_launcher.py:1: SettingWithCopyWarning: \n",
      "A value is trying to be set on a copy of a slice from a DataFrame\n",
      "\n",
      "See the caveats in the documentation: http://pandas.pydata.org/pandas-docs/stable/indexing.html#indexing-view-versus-copy\n",
      "  \"\"\"Entry point for launching an IPython kernel.\n",
      "/Users/tianyangdong/anaconda3/lib/python3.7/site-packages/ipykernel_launcher.py:2: SettingWithCopyWarning: \n",
      "A value is trying to be set on a copy of a slice from a DataFrame\n",
      "\n",
      "See the caveats in the documentation: http://pandas.pydata.org/pandas-docs/stable/indexing.html#indexing-view-versus-copy\n",
      "  \n"
     ]
    }
   ],
   "source": [
    "lunch_data_over10_2.DURATION[lunch_data_over10_2.DURATION < 10] = 0 * lunch_data_over10_2.DURATION\n",
    "lunch_data_over10_2.DURATION[lunch_data_over10_2.DURATION >= 10] = 1 + 0 * lunch_data_over10_2.DURATION"
   ]
  },
  {
   "cell_type": "code",
   "execution_count": 29,
   "metadata": {
    "scrolled": true
   },
   "outputs": [
    {
     "data": {
      "text/plain": [
       "13      1.0\n",
       "16      1.0\n",
       "19      1.0\n",
       "20      1.0\n",
       "23      1.0\n",
       "39      1.0\n",
       "40      1.0\n",
       "41      1.0\n",
       "80      0.0\n",
       "96      1.0\n",
       "142     1.0\n",
       "150     0.0\n",
       "155     0.0\n",
       "178     1.0\n",
       "181     1.0\n",
       "191     0.0\n",
       "206     1.0\n",
       "214     0.0\n",
       "281     1.0\n",
       "282     1.0\n",
       "289     1.0\n",
       "305     1.0\n",
       "316     0.0\n",
       "324     1.0\n",
       "342     1.0\n",
       "355     0.0\n",
       "384     1.0\n",
       "388     1.0\n",
       "421     0.0\n",
       "465     1.0\n",
       "       ... \n",
       "1761    1.0\n",
       "1763    1.0\n",
       "1769    1.0\n",
       "1773    0.0\n",
       "1774    1.0\n",
       "1780    1.0\n",
       "1781    0.0\n",
       "1785    1.0\n",
       "1786    1.0\n",
       "1789    1.0\n",
       "1791    1.0\n",
       "1792    1.0\n",
       "1802    0.0\n",
       "1803    1.0\n",
       "1806    1.0\n",
       "1807    1.0\n",
       "1813    1.0\n",
       "1816    0.0\n",
       "1818    1.0\n",
       "1827    1.0\n",
       "1828    1.0\n",
       "1830    1.0\n",
       "1835    1.0\n",
       "1836    1.0\n",
       "1840    1.0\n",
       "1843    1.0\n",
       "1844    1.0\n",
       "1851    1.0\n",
       "1854    1.0\n",
       "1858    1.0\n",
       "Name: DURATION, Length: 715, dtype: float64"
      ]
     },
     "execution_count": 29,
     "metadata": {},
     "output_type": "execute_result"
    }
   ],
   "source": [
    "lunch_data_over10_2.DURATION"
   ]
  },
  {
   "cell_type": "code",
   "execution_count": 30,
   "metadata": {
    "scrolled": true
   },
   "outputs": [
    {
     "data": {
      "text/plain": [
       "13      1.0\n",
       "16      1.0\n",
       "19      1.0\n",
       "20      1.0\n",
       "23      1.0\n",
       "39      1.0\n",
       "40      1.0\n",
       "41      1.0\n",
       "80      0.0\n",
       "96      1.0\n",
       "142     1.0\n",
       "150     0.0\n",
       "155     0.0\n",
       "178     1.0\n",
       "181     1.0\n",
       "191     0.0\n",
       "206     1.0\n",
       "214     0.0\n",
       "281     1.0\n",
       "282     1.0\n",
       "289     1.0\n",
       "305     1.0\n",
       "316     0.0\n",
       "324     1.0\n",
       "342     1.0\n",
       "355     0.0\n",
       "384     1.0\n",
       "388     1.0\n",
       "421     0.0\n",
       "465     1.0\n",
       "       ... \n",
       "1761    1.0\n",
       "1763    1.0\n",
       "1769    1.0\n",
       "1773    0.0\n",
       "1774    1.0\n",
       "1780    1.0\n",
       "1781    0.0\n",
       "1785    1.0\n",
       "1786    1.0\n",
       "1789    1.0\n",
       "1791    1.0\n",
       "1792    1.0\n",
       "1802    0.0\n",
       "1803    1.0\n",
       "1806    1.0\n",
       "1807    1.0\n",
       "1813    1.0\n",
       "1816    0.0\n",
       "1818    1.0\n",
       "1827    1.0\n",
       "1828    1.0\n",
       "1830    1.0\n",
       "1835    1.0\n",
       "1836    1.0\n",
       "1840    1.0\n",
       "1843    1.0\n",
       "1844    1.0\n",
       "1851    1.0\n",
       "1854    1.0\n",
       "1858    1.0\n",
       "Name: DURATION, Length: 715, dtype: float64"
      ]
     },
     "execution_count": 30,
     "metadata": {},
     "output_type": "execute_result"
    }
   ],
   "source": [
    "lunch_data.DURATION"
   ]
  },
  {
   "cell_type": "code",
   "execution_count": 31,
   "metadata": {},
   "outputs": [],
   "source": [
    "lunchmean = lunch_data_over10_2.groupby(['CHOICE'])"
   ]
  },
  {
   "cell_type": "code",
   "execution_count": 32,
   "metadata": {},
   "outputs": [
    {
     "data": {
      "text/plain": [
       "CHOICE\n",
       "1     1.000000\n",
       "2     0.848485\n",
       "3     0.846154\n",
       "4     0.795455\n",
       "5     0.750000\n",
       "6     1.000000\n",
       "7     0.800000\n",
       "8     1.000000\n",
       "9     0.928571\n",
       "10    1.000000\n",
       "11    0.657534\n",
       "12    0.729167\n",
       "13    0.902439\n",
       "14    0.500000\n",
       "15    0.652893\n",
       "16    0.727273\n",
       "17    0.933333\n",
       "18    0.923077\n",
       "19    0.916667\n",
       "20    0.828571\n",
       "21    1.000000\n",
       "Name: DURATION, dtype: float64"
      ]
     },
     "execution_count": 32,
     "metadata": {},
     "output_type": "execute_result"
    }
   ],
   "source": [
    "lunchmean.DURATION.mean()"
   ]
  },
  {
   "cell_type": "code",
   "execution_count": 42,
   "metadata": {},
   "outputs": [
    {
     "data": {
      "text/plain": [
       "array([ 13.66      ,  63.3030303 ,  44.44153846,  51.87568182,\n",
       "        18.0125    , 112.71      ,  90.353     ,  56.33315789,\n",
       "       101.53571429,  43.25666667,  19.60205479,  63.15145833,\n",
       "        37.40695122,  13.585     ,  22.49553719,  30.45242424,\n",
       "        42.87333333,  98.39846154,  69.19666667,  35.40771429,\n",
       "        55.69857143])"
      ]
     },
     "execution_count": 42,
     "metadata": {},
     "output_type": "execute_result"
    }
   ],
   "source": [
    "np.array(lunchmean2.DURATION.mean())  * np.array(lunchmean.DURATION.mean())"
   ]
  },
  {
   "cell_type": "code",
   "execution_count": 52,
   "metadata": {},
   "outputs": [],
   "source": [
    "m_data_1 = pandas.iloc[np.array((pandas.iloc[:,6]==11)&(pandas.iloc[:,7]<=29.9)),:]\n",
    "m_data_2 = pandas.iloc[np.array((pandas.iloc[:,6]>=7)&(pandas.iloc[:,6]<=10)),:]\n",
    "m_data = pd.concat([m_data_1, m_data_2])"
   ]
  },
  {
   "cell_type": "code",
   "execution_count": 56,
   "metadata": {},
   "outputs": [],
   "source": [
    "m_data_3 = m_data.iloc[np.array((m_data.iloc[:,8]==11)&(m_data.iloc[:,9]>29.9)),:]"
   ]
  },
  {
   "cell_type": "code",
   "execution_count": 60,
   "metadata": {},
   "outputs": [],
   "source": [
    "m_data_4 = m_data.iloc[np.array((m_data.iloc[:,8]==12)|(m_data.iloc[:,8]==13)),:]"
   ]
  },
  {
   "cell_type": "code",
   "execution_count": 78,
   "metadata": {},
   "outputs": [],
   "source": [
    "m_data_ = pd.concat([m_data_3, m_data_4])"
   ]
  },
  {
   "cell_type": "code",
   "execution_count": 91,
   "metadata": {},
   "outputs": [
    {
     "data": {
      "text/plain": [
       "160       6\n",
       "269       3\n",
       "378       3\n",
       "424      23\n",
       "520       4\n",
       "644      13\n",
       "821       2\n",
       "838      13\n",
       "891      27\n",
       "1230     10\n",
       "1343     21\n",
       "1357      1\n",
       "1367     10\n",
       "1502      9\n",
       "1566      1\n",
       "1660      1\n",
       "1708     18\n",
       "1839     18\n",
       "174       1\n",
       "222       7\n",
       "354      20\n",
       "459      22\n",
       "492      24\n",
       "497       5\n",
       "562       3\n",
       "679      22\n",
       "715       4\n",
       "775      18\n",
       "861      21\n",
       "1072     14\n",
       "       ... \n",
       "849      38\n",
       "851      77\n",
       "855      71\n",
       "856     118\n",
       "865      54\n",
       "958     127\n",
       "1059     34\n",
       "1175     92\n",
       "1177     91\n",
       "1183     51\n",
       "1209     89\n",
       "1229     99\n",
       "1250     39\n",
       "1253     85\n",
       "1266     71\n",
       "1287     94\n",
       "1295     96\n",
       "1326    137\n",
       "1332    141\n",
       "1400     36\n",
       "1430     41\n",
       "1497     36\n",
       "1511     95\n",
       "1525     84\n",
       "1554     97\n",
       "1560     42\n",
       "1578     51\n",
       "1651     36\n",
       "1691     30\n",
       "1768     64\n",
       "Name: DURATION, Length: 100, dtype: int64"
      ]
     },
     "execution_count": 91,
     "metadata": {},
     "output_type": "execute_result"
    }
   ],
   "source": [
    "m_data_.DURATION"
   ]
  },
  {
   "cell_type": "code",
   "execution_count": 80,
   "metadata": {},
   "outputs": [],
   "source": [
    "m_data_.DURATION = (m_data_.H_END - 11) * 60 + m_data_.M_END - 30"
   ]
  },
  {
   "cell_type": "code",
   "execution_count": 85,
   "metadata": {},
   "outputs": [],
   "source": [
    "dd = pd.concat([m_data_, lunch_data])"
   ]
  },
  {
   "cell_type": "code",
   "execution_count": 86,
   "metadata": {},
   "outputs": [],
   "source": [
    "mean = dd.groupby(['CHOICE'])"
   ]
  },
  {
   "cell_type": "code",
   "execution_count": 87,
   "metadata": {},
   "outputs": [
    {
     "data": {
      "text/plain": [
       "CHOICE\n",
       "1     13.660000\n",
       "2     62.397532\n",
       "3     45.154118\n",
       "4     51.288750\n",
       "5     20.290000\n",
       "6     92.346667\n",
       "7     83.034375\n",
       "8     54.492609\n",
       "9     72.478276\n",
       "10    43.256667\n",
       "11    21.986027\n",
       "12    60.234407\n",
       "13    38.038537\n",
       "14    17.675000\n",
       "15    26.154853\n",
       "16    32.291313\n",
       "17    42.223889\n",
       "18    78.672500\n",
       "19    71.014444\n",
       "20    36.573143\n",
       "21    55.698571\n",
       "Name: DURATION, dtype: float64"
      ]
     },
     "execution_count": 87,
     "metadata": {},
     "output_type": "execute_result"
    }
   ],
   "source": [
    "mean.DURATION.mean()"
   ]
  },
  {
   "cell_type": "code",
   "execution_count": 89,
   "metadata": {
    "scrolled": true
   },
   "outputs": [
    {
     "data": {
      "text/plain": [
       "160       6.00\n",
       "269       3.00\n",
       "378       3.00\n",
       "424      23.00\n",
       "520       4.00\n",
       "644      13.00\n",
       "821       2.00\n",
       "838      13.00\n",
       "891      27.00\n",
       "1230     10.00\n",
       "1343     21.00\n",
       "1357      1.00\n",
       "1367     10.00\n",
       "1502      9.00\n",
       "1566      1.00\n",
       "1660      1.00\n",
       "1708     18.00\n",
       "1839     18.00\n",
       "174       1.00\n",
       "222       7.00\n",
       "354      20.00\n",
       "459      22.00\n",
       "492      24.00\n",
       "497       5.00\n",
       "562       3.00\n",
       "679      22.00\n",
       "715       4.00\n",
       "775      18.00\n",
       "861      21.00\n",
       "1072     14.00\n",
       "         ...  \n",
       "1761     45.20\n",
       "1763    409.93\n",
       "1769     17.70\n",
       "1773      9.23\n",
       "1774     14.68\n",
       "1780     23.39\n",
       "1781      9.67\n",
       "1785     10.68\n",
       "1786     11.50\n",
       "1789     12.88\n",
       "1791     38.74\n",
       "1792     22.01\n",
       "1802      7.81\n",
       "1803     54.39\n",
       "1806     20.68\n",
       "1807     14.55\n",
       "1813     13.12\n",
       "1816      5.83\n",
       "1818     22.33\n",
       "1827     20.17\n",
       "1828     51.56\n",
       "1830     33.97\n",
       "1835     48.24\n",
       "1836     31.85\n",
       "1840     41.37\n",
       "1843     32.14\n",
       "1844    120.40\n",
       "1851     12.21\n",
       "1854     31.55\n",
       "1858     13.49\n",
       "Name: DURATION, Length: 815, dtype: float64"
      ]
     },
     "execution_count": 89,
     "metadata": {},
     "output_type": "execute_result"
    }
   ],
   "source": [
    "dd.DURATION"
   ]
  },
  {
   "cell_type": "code",
   "execution_count": null,
   "metadata": {},
   "outputs": [],
   "source": []
  }
 ],
 "metadata": {
  "kernelspec": {
   "display_name": "Python 3",
   "language": "python",
   "name": "python3"
  },
  "language_info": {
   "codemirror_mode": {
    "name": "ipython",
    "version": 3
   },
   "file_extension": ".py",
   "mimetype": "text/x-python",
   "name": "python",
   "nbconvert_exporter": "python",
   "pygments_lexer": "ipython3",
   "version": "3.7.1"
  }
 },
 "nbformat": 4,
 "nbformat_minor": 2
}
