{
 "cells": [
  {
   "cell_type": "code",
   "execution_count": 1,
   "metadata": {},
   "outputs": [],
   "source": [
    "import biogeme\n",
    "import pandas as pd\n",
    "import biogeme.database as db\n",
    "import biogeme.biogeme as bio\n",
    "import sys\n",
    "import biogeme.models as models\n",
    "import biogeme.results as res\n",
    "import numpy as np\n",
    "from headers import *"
   ]
  },
  {
   "cell_type": "code",
   "execution_count": 2,
   "metadata": {},
   "outputs": [],
   "source": [
    "pandas =pd.read_table(\"Dataset.dat\")"
   ]
  },
  {
   "cell_type": "code",
   "execution_count": 3,
   "metadata": {},
   "outputs": [],
   "source": [
    "lunch_data_11 = pandas.iloc[np.array((pandas.iloc[:,6]==11)&(pandas.iloc[:,7]>29.9)),:]\n",
    "lunch_data_12 = pandas.iloc[np.array((pandas.iloc[:,6]==12)|(pandas.iloc[:,6]==13)),:]\n",
    "lunch_data = pd.concat([lunch_data_11, lunch_data_12])"
   ]
  },
  {
   "cell_type": "code",
   "execution_count": 4,
   "metadata": {},
   "outputs": [],
   "source": [
    "database = db.Database(\"Dataset\",lunch_data)"
   ]
  },
  {
   "cell_type": "code",
   "execution_count": 5,
   "metadata": {},
   "outputs": [],
   "source": [
    "pandas2 =pd.read_excel(\"estimate.xlsx\")\n",
    "database_estimate = db.Database(\"Dataset_estimate\",pandas2)"
   ]
  },
  {
   "cell_type": "code",
   "execution_count": 6,
   "metadata": {},
   "outputs": [],
   "source": [
    "exclude = DURATION < 5\n",
    "database.remove(exclude)\n",
    "CHOICE = CHOICE * (CHOICE != 3) * (CHOICE != 7) + 22 * ((CHOICE == 3) + (CHOICE == 7))"
   ]
  },
  {
   "cell_type": "code",
   "execution_count": 7,
   "metadata": {},
   "outputs": [],
   "source": [
    "ASC_BC = Beta('ASC_BC', 0, -100, 100, 0)\n",
    "ASC_BM = Beta('ASC_BM ', 0, -100, 100, 0)\n",
    "ASC_ELA = Beta('ASC_ELA ', 0, -100, 100, 0)\n",
    "ASC_MX = Beta('ASC_MX ', 0, -100, 100, 0)\n",
    "ASC_PH = Beta('ASC_PH ', 0, -100, 100, 0)\n",
    "ASC_ATL = Beta('ASC_ATL ', 0, -100, 100, 0)\n",
    "ASC_COR = Beta('ASC_COR ', 0, -100, 100, 0)\n",
    "ASC_GIA = Beta('ASC_GIA ', 0, -100, 100, 0)\n",
    "ASC_PAR = Beta('ASC_PAR ', 0, -100, 100, 0)\n",
    "ASC_ESP = Beta('ASC_ESP ', 0, -100, 100, 1)\n",
    "ASC_ORN = Beta('ASC_ORN ', 0, -100, 100, 0)\n",
    "ASC_PIZ = Beta('ASC_PIZ ', 0, -100, 100, 0)\n",
    "ASC_KEB = Beta('ASC_KEB ', 0, -100, 100, 0)\n",
    "ASC_SAT = Beta('ASC_SAT ', 0, -100, 100, 0)\n",
    "ASC_HOD = Beta('ASC_HOD ', 0, -100, 100, 0)\n",
    "ASC_VAL = Beta('ASC_VAL ', 0, -100, 100, 0)\n",
    "ASC_INM = Beta('ASC_INM ', 0, -100, 100, 0)\n",
    "ASC_VIN = Beta('ASC_VIN', 0, -100, 100, 0)\n",
    "ASC_COP = Beta('ASC_COP', 0, -100, 100, 0)\n",
    "ASC_KLE = Beta('ASC_KLE', 0, -100, 100, 0)\n",
    "ASC_ARC = Beta('ASC_ARC', 0, -100, 100, 0)\n",
    "ASC_OPT = Beta('ASC_OPT', 0, -100, 100, 0)\n",
    "BETA_PRICE_STUDENT = Beta('BETA_PRICE_STUDENT', 0, -100, 100, 0)\n",
    "BETA_PRICE_EMPLOYEE = Beta('BETA_PRICE_EMPLOYEE', 0, -100, 100, 1)\n",
    "BETA_DISTANCE = Beta('BETA_DISTANCE', 0, -100, 100, 0)\n",
    "BETA_NO_DISTANCE_AV = Beta('BETA_NO_DISTANCE_AV', 0, -100, 100, 0)\n",
    "BETA_EVA_SELF = Beta('BETA_EVA_SELF', 0, -100, 100, 0)\n",
    "BETA_EVA_CAFET = Beta('BETA_EVA_CAFET', 0, -100, 100, 0)\n",
    "BETA_EVA_REST = Beta('BETA_EVA_REST', 0, -100, 100, 0)\n",
    "BETA_EVA_CARA = Beta('BETA_EVA_CARA', 0, -100, 100, 0)\n",
    "ALPHA = Beta('ALPHA', 0, -100, 100, 0)\n",
    "LAMBDA = Beta('LAMBDA', 1, -100, 100, 0)"
   ]
  },
  {
   "cell_type": "code",
   "execution_count": 8,
   "metadata": {},
   "outputs": [],
   "source": [
    "one = 1\n",
    "lunch11 = (H_START == 11 * M_START > 29.9) > 0\n",
    "lunch12 = H_START == 12\n",
    "lunch13 = H_START == 13\n",
    "dinner18 = H_START == 18\n",
    "dinner19 = H_START == 19\n",
    "morning7 = H_START == 7\n",
    "morning8 = H_START == 8\n",
    "morning9 = H_START == 9\n",
    "morning10 = H_START == 10\n",
    "morning11 = (H_START == 11 * M_START < 29.8) > 0\n",
    "afternoon14 = H_START == 14\n",
    "afternoon15 = H_START == 15\n",
    "afternoon16 = H_START == 16\n",
    "afternoon17 = H_START == 17\n",
    "night20 = H_START == 20\n",
    "night21 = H_START == 21\n",
    "night_end21 = H_END == 21\n",
    "night_end22 = H_END == 22\n",
    "night = (night20 + night21 + night_end21 + night_end22) > 0\n",
    "afternoon = (afternoon15 + afternoon16 + afternoon17 + afternoon14) > 0\n",
    "morning = (morning8 + morning9 + morning10 + morning7 + morning11) > 0\n",
    "dinner = (dinner18 + dinner19) > 0\n",
    "lunch = (lunch11 + lunch12 + lunch13) > 0\n",
    "first_year = SEMESTER == 2\n",
    "after_lunch = (afternoon + night + dinner) > 0\n",
    "self_true = SELF == 1\n",
    "restaurant_true = RESTAURANT == 1\n",
    "caravan_true = CARAVAN == 1\n",
    "cafet_true = CAFETERIA == 1\n",
    "rain_and_cold_max_20 = SUN_AND_HEAT_MIN_20 == 0\n",
    "student_true = STUDENT == 1\n",
    "perso = 1 - student_true\n",
    "self_cafet = (cafet_true + self_true + caravan_true + restaurant_true) > 0\n",
    "\n",
    "distance_filter_1 = DISTANCE_1 > -1\n",
    "distance_filter_2 = DISTANCE_2 > -1\n",
    "distance_filter_3 = DISTANCE_3 > -1\n",
    "distance_filter_4 = DISTANCE_4 > -1\n",
    "distance_filter_5 = DISTANCE_5 > -1\n",
    "distance_filter_6 = DISTANCE_6 > -1\n",
    "distance_filter_7 = DISTANCE_7 > -1\n",
    "distance_filter_8 = DISTANCE_8 > -1\n",
    "distance_filter_9 = DISTANCE_9 > -1\n",
    "distance_filter_10 = DISTANCE_10 > -1\n",
    "distance_filter_11 = DISTANCE_11 > -1\n",
    "distance_filter_12 = DISTANCE_12 > -1\n",
    "distance_filter_13 = DISTANCE_13 > -1\n",
    "distance_filter_14 = DISTANCE_14 > -1\n",
    "distance_filter_15 = DISTANCE_15 > -1\n",
    "distance_filter_16 = DISTANCE_16 > -1\n",
    "distance_filter_17 = DISTANCE_17 > -1\n",
    "distance_filter_18 = DISTANCE_18 > -1\n",
    "distance_filter_19 = DISTANCE_19 > -1\n",
    "distance_filter_20 = DISTANCE_20 > -1\n",
    "distance_filter_21 = DISTANCE_21 > -1\n",
    "distance_no_av_1 = DISTANCE_1 == -1\n",
    "distance_no_av_2 = DISTANCE_2 == -1\n",
    "distance_no_av_3 = DISTANCE_3 == -1\n",
    "distance_no_av_4 = DISTANCE_4 == -1\n",
    "distance_no_av_5 = DISTANCE_5 == -1\n",
    "distance_no_av_6 = DISTANCE_6 == -1\n",
    "distance_no_av_7 = DISTANCE_7 == -1\n",
    "distance_no_av_8 = DISTANCE_8 == -1\n",
    "distance_no_av_9 = DISTANCE_9 == -1\n",
    "distance_no_av_10 = DISTANCE_10 == -1\n",
    "distance_no_av_11 = DISTANCE_11 == -1\n",
    "distance_no_av_12 = DISTANCE_12 == -1\n",
    "distance_no_av_13 = DISTANCE_13 == -1\n",
    "distance_no_av_14 = DISTANCE_14 == -1\n",
    "distance_no_av_15 = DISTANCE_15 == -1\n",
    "distance_no_av_16 = DISTANCE_16 == -1\n",
    "distance_no_av_17 = DISTANCE_17 == -1\n",
    "distance_no_av_18 = DISTANCE_18 == -1\n",
    "distance_no_av_19 = DISTANCE_19 == -1\n",
    "distance_no_av_20 = DISTANCE_20 == -1\n",
    "distance_no_av_21 = DISTANCE_21 == -1\n",
    "\n",
    "evaluation_filter_1 = EVALUATION_2013_1 > -1\n",
    "evaluation_filter_2 = EVALUATION_2013_2 > -1\n",
    "evaluation_filter_3 = EVALUATION_2013_3 > -1\n",
    "evaluation_filter_4 = EVALUATION_2013_4 > -1\n",
    "evaluation_filter_5 = EVALUATION_2013_5 > -1\n",
    "evaluation_filter_6 = EVALUATION_2013_6 > -1\n",
    "evaluation_filter_7 = EVALUATION_2013_7 > -1\n",
    "evaluation_filter_8 = EVALUATION_2013_8 > -1\n",
    "evaluation_filter_9 = EVALUATION_2013_9 > -1\n",
    "evaluation_filter_10 = EVALUATION_2013_10 > -1\n",
    "evaluation_filter_11 = EVALUATION_2013_11 > -1\n",
    "evaluation_filter_12 = EVALUATION_2013_12 > -1\n",
    "evaluation_filter_13 = EVALUATION_2013_13 > -1\n",
    "evaluation_filter_14 = EVALUATION_2013_14 > -1\n",
    "evaluation_filter_15 = EVALUATION_2013_15 > -1\n",
    "evaluation_filter_16 = EVALUATION_2013_16 > -1\n",
    "evaluation_filter_17 = EVALUATION_2013_17 > -1\n",
    "evaluation_filter_18 = EVALUATION_2013_18 > -1\n",
    "evaluation_filter_19 = EVALUATION_2013_19 > -1\n",
    "evaluation_filter_20 = EVALUATION_2013_20 > -1\n",
    "evaluation_filter_21 = EVALUATION_2013_21 > -1"
   ]
  },
  {
   "cell_type": "code",
   "execution_count": 9,
   "metadata": {},
   "outputs": [],
   "source": [
    "distance_1 = distance_filter_1 * DISTANCE_1 / 100\n",
    "distance_2 = distance_filter_2 * DISTANCE_2 / 100\n",
    "distance_3 = distance_filter_3 * DISTANCE_3 / 100\n",
    "distance_4 = distance_filter_4 * DISTANCE_4 / 100\n",
    "distance_5 = distance_filter_5 * DISTANCE_5 / 100\n",
    "distance_6 = distance_filter_6 * DISTANCE_6 / 100\n",
    "distance_7 = distance_filter_7 * DISTANCE_7 / 100\n",
    "distance_8 = distance_filter_8 * DISTANCE_8 / 100\n",
    "distance_9 = distance_filter_9 * DISTANCE_9 / 100\n",
    "distance_10 = distance_filter_10 * DISTANCE_10 / 100\n",
    "distance_11 = distance_filter_11 * DISTANCE_11 / 100\n",
    "distance_12 = distance_filter_12 * DISTANCE_12 / 100\n",
    "distance_13 = distance_filter_13 * DISTANCE_13 / 100\n",
    "distance_14 = distance_filter_14 * DISTANCE_14 / 100\n",
    "distance_15 = distance_filter_15 * DISTANCE_15 / 100\n",
    "distance_16 = distance_filter_16 * DISTANCE_16 / 100\n",
    "distance_17 = distance_filter_17 * DISTANCE_17 / 100\n",
    "distance_18 = distance_filter_18 * DISTANCE_18 / 100\n",
    "distance_19 = distance_filter_19 * DISTANCE_19 / 100\n",
    "distance_20 = distance_filter_20 * DISTANCE_20 / 100\n",
    "distance_21 = distance_filter_21 * DISTANCE_21 / 100"
   ]
  },
  {
   "cell_type": "code",
   "execution_count": 10,
   "metadata": {},
   "outputs": [],
   "source": [
    "eva_1 = (evaluation_filter_1 * EVALUATION_2013_1)  * lunch\n",
    "eva_2 = (evaluation_filter_2 * EVALUATION_2013_2)  * lunch\n",
    "eva_3 = (evaluation_filter_3 * EVALUATION_2013_3) * lunch\n",
    "eva_4 = (evaluation_filter_4 * EVALUATION_2013_4)  * lunch\n",
    "eva_5 = (evaluation_filter_5 * EVALUATION_2013_5) * lunch\n",
    "eva_6 = (evaluation_filter_6 * EVALUATION_2013_6)  * lunch\n",
    "eva_7 = (evaluation_filter_7 * EVALUATION_2013_7)  * lunch\n",
    "eva_8 = (evaluation_filter_8 * EVALUATION_2013_8)  * lunch\n",
    "eva_9 = (evaluation_filter_9 * EVALUATION_2013_9) * lunch\n",
    "eva_10 = (evaluation_filter_10 * EVALUATION_2013_10) * lunch\n",
    "eva_11 = (evaluation_filter_11 * EVALUATION_2013_11) * lunch\n",
    "eva_12 = (evaluation_filter_12 * EVALUATION_2013_12) * lunch\n",
    "eva_13 = (evaluation_filter_13 * EVALUATION_2013_13) * lunch\n",
    "eva_14 = (evaluation_filter_14 * EVALUATION_2013_14) * lunch\n",
    "eva_15 = (evaluation_filter_15 * EVALUATION_2013_15) * lunch\n",
    "eva_16 = (evaluation_filter_16 * EVALUATION_2013_16) * lunch\n",
    "eva_17 = (evaluation_filter_17 * EVALUATION_2013_17) * lunch\n",
    "eva_18 = (evaluation_filter_18 * EVALUATION_2013_18) * lunch\n",
    "eva_19 = (evaluation_filter_19 * EVALUATION_2013_19) * lunch\n",
    "eva_20 = (evaluation_filter_20 * EVALUATION_2013_20) * lunch\n",
    "eva_21 = (evaluation_filter_21 * EVALUATION_2013_21) * lunch\n",
    "\n",
    "eva_student_1 = eva_1 * student_true\n",
    "eva_student_2 = eva_2 * student_true\n",
    "eva_student_3 = eva_3 * student_true\n",
    "eva_student_4 = eva_4 * student_true\n",
    "eva_student_5 = eva_5 * student_true\n",
    "eva_student_6 = eva_6 * student_true\n",
    "eva_student_7 = eva_7 * student_true\n",
    "eva_student_8 = eva_8 * student_true\n",
    "eva_student_9 = eva_9 * student_true\n",
    "eva_student_10 = eva_10 * student_true\n",
    "eva_student_11 = eva_11 * student_true\n",
    "eva_student_12 = eva_12 * student_true\n",
    "eva_student_13 = eva_13 * student_true\n",
    "eva_student_14 = eva_14 * student_true\n",
    "eva_student_15 = eva_15 * student_true\n",
    "eva_student_16 = eva_16 * student_true\n",
    "eva_student_17 = eva_17 * student_true\n",
    "eva_student_18 = eva_18 * student_true\n",
    "eva_student_19 = eva_19 * student_true\n",
    "eva_student_20 = eva_20 * student_true\n",
    "eva_student_21 = eva_21 * student_true\n",
    "\n",
    "eva_employee_1 = eva_1 * perso\n",
    "eva_employee_2 = eva_2 * perso\n",
    "eva_employee_3 = eva_3 * perso\n",
    "eva_employee_4 = eva_4 * perso\n",
    "eva_employee_5 = eva_5 * perso\n",
    "eva_employee_6 = eva_6 * perso\n",
    "eva_employee_7 = eva_7 * perso\n",
    "eva_employee_8 = eva_8 * perso\n",
    "eva_employee_9 = eva_9 * perso\n",
    "eva_employee_10 = eva_10 * perso\n",
    "eva_employee_11 = eva_11 * perso\n",
    "eva_employee_12 = eva_12 * perso\n",
    "eva_employee_13 = eva_13 * perso\n",
    "eva_employee_14 = eva_14 * perso\n",
    "eva_employee_15 = eva_15 * perso\n",
    "eva_employee_16 = eva_16 * perso\n",
    "eva_employee_17 = eva_17 * perso\n",
    "eva_employee_18 = eva_18 * perso\n",
    "eva_employee_19 = eva_19 * perso\n",
    "eva_employee_20 = eva_20 * perso\n",
    "eva_employee_21 = eva_21 * perso\n",
    "\n",
    "lunch_price_min_student_1 = (lunch * MIN_PRICE_1) * student_true\n",
    "lunch_price_min_student_2 = (lunch * MIN_PRICE_2) * student_true\n",
    "lunch_price_min_student_3 = (lunch * MIN_PRICE_3) * student_true\n",
    "lunch_price_min_student_4 = (lunch * MIN_PRICE_4) * student_true\n",
    "lunch_price_min_student_5 = (lunch * MIN_PRICE_5) * student_true\n",
    "lunch_price_min_student_6 = (lunch * MIN_PRICE_6) * student_true\n",
    "lunch_price_min_student_7 = (lunch * MIN_PRICE_7) * student_true\n",
    "lunch_price_min_student_8 = (lunch * MIN_PRICE_8) * student_true\n",
    "lunch_price_min_student_9 = (lunch * MIN_PRICE_9) * student_true\n",
    "lunch_price_min_student_10 = (lunch * MIN_PRICE_10) * student_true\n",
    "lunch_price_min_student_11 = (lunch * MIN_PRICE_11) * student_true\n",
    "lunch_price_min_student_12 = (lunch * MIN_PRICE_12) * student_true\n",
    "lunch_price_min_student_13 = (lunch * MIN_PRICE_13) * student_true\n",
    "lunch_price_min_student_14 = (lunch * MIN_PRICE_14) * student_true\n",
    "lunch_price_min_student_15 = (lunch * MIN_PRICE_15) * student_true\n",
    "lunch_price_min_student_16 = (lunch * MIN_PRICE_16) * student_true\n",
    "lunch_price_min_student_17 = (lunch * MIN_PRICE_17) * student_true\n",
    "lunch_price_min_student_18 = (lunch * MIN_PRICE_18) * student_true\n",
    "lunch_price_min_student_19 = (lunch * MIN_PRICE_19) * student_true\n",
    "lunch_price_min_student_20 = (lunch * MIN_PRICE_20) * student_true\n",
    "lunch_price_min_student_21 = (lunch * MIN_PRICE_21) * student_true\n",
    "lunch_price_min_employee_1 = (lunch * MIN_PRICE_1) * perso\n",
    "lunch_price_min_employee_2 = (lunch * MIN_PRICE_2) * perso\n",
    "lunch_price_min_employee_3 = (lunch * MIN_PRICE_3) * perso\n",
    "lunch_price_min_employee_4 = (lunch * MIN_PRICE_4) * perso\n",
    "lunch_price_min_employee_5 = (lunch * MIN_PRICE_5) * perso\n",
    "lunch_price_min_employee_6 = (lunch * MIN_PRICE_6) * perso\n",
    "lunch_price_min_employee_7 = (lunch * MIN_PRICE_7) * perso\n",
    "lunch_price_min_employee_8 = (lunch * MIN_PRICE_8) * perso\n",
    "lunch_price_min_employee_9 = (lunch * MIN_PRICE_9) * perso\n",
    "lunch_price_min_employee_10 = (lunch * MIN_PRICE_10) * perso\n",
    "lunch_price_min_employee_11 = (lunch * MIN_PRICE_11) * perso\n",
    "lunch_price_min_employee_12 = (lunch * MIN_PRICE_12) * perso\n",
    "lunch_price_min_employee_13 = (lunch * MIN_PRICE_13) * perso\n",
    "lunch_price_min_employee_14 = (lunch * MIN_PRICE_14) * perso\n",
    "lunch_price_min_employee_15 = (lunch * MIN_PRICE_15) * perso\n",
    "lunch_price_min_employee_16 = (lunch * MIN_PRICE_16) * perso\n",
    "lunch_price_min_employee_17 = (lunch * MIN_PRICE_17) * perso\n",
    "lunch_price_min_employee_18 = (lunch * MIN_PRICE_18) * perso\n",
    "lunch_price_min_employee_19 = (lunch * MIN_PRICE_19) * perso\n",
    "lunch_price_min_employee_20 = (lunch * MIN_PRICE_20) * perso\n",
    "lunch_price_min_employee_21 = (lunch * MIN_PRICE_21) * perso"
   ]
  },
  {
   "cell_type": "code",
   "execution_count": 11,
   "metadata": {},
   "outputs": [
    {
     "name": "stderr",
     "output_type": "stream",
     "text": [
      "/Users/tianyangdong/anaconda3/lib/python3.7/site-packages/ipykernel_launcher.py:1: SettingWithCopyWarning: \n",
      "A value is trying to be set on a copy of a slice from a DataFrame\n",
      "\n",
      "See the caveats in the documentation: http://pandas.pydata.org/pandas-docs/stable/indexing.html#indexing-view-versus-copy\n",
      "  \"\"\"Entry point for launching an IPython kernel.\n"
     ]
    }
   ],
   "source": [
    "lunch_data.DURATION[lunch_data.H_END >= 14] = (14 - lunch_data.H_START) * 60 - lunch_data.M_START\n",
    "lunch_data_over10 = lunch_data.iloc[np.array(lunch_data.iloc[:,10] >= 0), :]\n",
    "\n",
    "# Select those observations that starts before 11:30 and ends between 11:30 and 14:00\n",
    "m_data_1 = pandas.iloc[np.array((pandas.iloc[:,6]==11)&(pandas.iloc[:,7]<=29.9)),:]\n",
    "m_data_2 = pandas.iloc[np.array((pandas.iloc[:,6]>=7)&(pandas.iloc[:,6]<=10)),:]\n",
    "m_data = pd.concat([m_data_1, m_data_2])\n",
    "m_data_3 = m_data.iloc[np.array((m_data.iloc[:,8]==11)&(m_data.iloc[:,9]>29.9)),:]\n",
    "m_data_4 = m_data.iloc[np.array((m_data.iloc[:,8]==12)|(m_data.iloc[:,8]==13)),:]\n",
    "m_data_ = pd.concat([m_data_3, m_data_4])\n",
    "\n",
    "m_data_.DURATION = (m_data_.H_END - 11) * 60 + m_data_.M_END - 30\n",
    "m_data_over10 = m_data_.iloc[np.array(m_data_.iloc[:,10] >= 0), :]\n",
    "dd = pd.concat([m_data_over10, lunch_data_over10])\n",
    "lunchmean = dd.groupby(['CHOICE'])\n",
    "averagetime = np.array(lunchmean.DURATION.mean())\n",
    "averagetime = np.delete(averagetime, 2) \n",
    "averagetime = np.delete(averagetime, 5) \n",
    "averagetime = np.append(averagetime, 100)\n",
    "\n"
   ]
  },
  {
   "cell_type": "code",
   "execution_count": 12,
   "metadata": {},
   "outputs": [],
   "source": [
    "lunchmean = lunch_data.groupby(['CHOICE'])"
   ]
  },
  {
   "cell_type": "code",
   "execution_count": 13,
   "metadata": {},
   "outputs": [],
   "source": [
    "a = np.array(lunchmean.CHOICE.count())"
   ]
  },
  {
   "cell_type": "code",
   "execution_count": 119,
   "metadata": {},
   "outputs": [],
   "source": [
    "def return_cong(marketshare, averagetime, population):\n",
    "    # for alternative 17 and 18, there is no capacity, the default capacity is 100\n",
    "    capacity = np.array([70, 82, 98, 20, 50, 60, 125, 105, 228, 90, 320, 240, 225, 250, 100, 100, 200, 128, 80, 100])\n",
    "    T = 150\n",
    "    congestion = averagetime * marketshare * population / capacity / T\n",
    "    sumc = sum(congestion) - congestion[14] - congestion[15] - congestion[19] \n",
    "    congestion[14] = sumc / 17\n",
    "    congestion[15] = sumc / 17\n",
    "    congestion[19] = sumc / 17\n",
    "    return congestion\n",
    "\n",
    "#initial value\n",
    "marketshare = np.array([1.285, 6.395, 1.558, 1.234, 0.758, 1.800,12.551, 0.989, 7.975, 1.135, 11.910, \n",
    "                       13.331, 11.712, 10.576, 1.803, 2.149, 1.953, 8.596, 0.350, 1.940])\n",
    "congestion = return_cong(marketshare, averagetime, 12610)"
   ]
  },
  {
   "cell_type": "code",
   "execution_count": 159,
   "metadata": {},
   "outputs": [],
   "source": [
    "congestion = return_cong(marketshare, averagetime, 12610)"
   ]
  },
  {
   "cell_type": "code",
   "execution_count": 160,
   "metadata": {
    "scrolled": true
   },
   "outputs": [
    {
     "data": {
      "text/plain": [
       "array([0.34010625, 1.43684373, 0.52750908, 1.04261188, 0.78306382,\n",
       "       0.99200764, 1.11578078, 0.3019396 , 0.85578465, 0.43713503,\n",
       "       1.23778713, 1.04694914, 1.06866035, 1.1845236 , 0.86078883,\n",
       "       0.86078883, 0.50717688, 1.48168442, 0.27384616, 0.86078883])"
      ]
     },
     "execution_count": 160,
     "metadata": {},
     "output_type": "execute_result"
    }
   ],
   "source": [
    "congestion = congestion / 10\n",
    "congestion"
   ]
  },
  {
   "cell_type": "code",
   "execution_count": 161,
   "metadata": {},
   "outputs": [],
   "source": [
    "V1 = ASC_KLE \\\n",
    "    + BETA_DISTANCE * distance_1 \\\n",
    "    + BETA_NO_DISTANCE_AV * distance_no_av_1 \\\n",
    "    + BETA_EVA_CAFET * eva_1 \\\n",
    "    + BETA_PRICE_STUDENT * lunch_price_min_student_1 \\\n",
    "    + BETA_PRICE_EMPLOYEE * lunch_price_min_employee_1 \\\n",
    "    + ALPHA * congestion[0] \n",
    "\n",
    "V2 = ASC_BC \\\n",
    "    + BETA_DISTANCE * distance_2 \\\n",
    "    + BETA_EVA_SELF * eva_2 \\\n",
    "    + BETA_NO_DISTANCE_AV * distance_no_av_2 \\\n",
    "    + BETA_PRICE_STUDENT * lunch_price_min_student_2 \\\n",
    "    + BETA_PRICE_EMPLOYEE * lunch_price_min_employee_2 \\\n",
    "    + ALPHA * congestion[1]\n",
    "\n",
    "#V3 = ASC_BM \\\n",
    "#    + BETA_NO_DISTANCE_AV * distance_no_av_3 \\\n",
    " #   + BETA_DISTANCE * distance_3 \\\n",
    "  #  + BETA_NO_PRICE * 1 * self_cafet * lunch\n",
    "\n",
    "V4 = ASC_ELA \\\n",
    "    + BETA_DISTANCE * distance_4 \\\n",
    "    + BETA_EVA_CAFET * eva_4 \\\n",
    "    + BETA_NO_DISTANCE_AV * distance_no_av_4 \\\n",
    "    + BETA_PRICE_STUDENT * lunch_price_min_student_4 \\\n",
    "    + BETA_PRICE_EMPLOYEE * lunch_price_min_employee_4 \\\n",
    "    + ALPHA * congestion[2]\n",
    "\n",
    "V5 = ASC_INM \\\n",
    "     + BETA_DISTANCE * distance_5 \\\n",
    "    + BETA_EVA_CAFET * eva_5 \\\n",
    "    + BETA_NO_DISTANCE_AV * distance_no_av_5 \\\n",
    "    + BETA_PRICE_STUDENT * lunch_price_min_student_5 \\\n",
    "    + BETA_PRICE_EMPLOYEE * lunch_price_min_employee_5 \\\n",
    "    + ALPHA * congestion[3]\n",
    "\n",
    "V6 = ASC_MX \\\n",
    "    + BETA_DISTANCE * distance_6 \\\n",
    "    + BETA_EVA_CAFET * eva_6\\\n",
    "    + BETA_NO_DISTANCE_AV * distance_no_av_6 \\\n",
    "    + BETA_PRICE_STUDENT * lunch_price_min_student_6 \\\n",
    "    + BETA_PRICE_EMPLOYEE * lunch_price_min_employee_6 \\\n",
    "    + ALPHA * congestion[4]\n",
    "\n",
    "#V7 = ASC_PH \\\n",
    " #   + BETA_NO_DISTANCE_AV * distance_no_av_7 \\\n",
    " #   + BETA_DISTANCE * distance_7 \\\n",
    " #   + BETA_NO_PRICE * 1 * self_cafet * lunch\n",
    "\n",
    "V8 = ASC_ARC \\\n",
    "    + BETA_DISTANCE * distance_8 \\\n",
    "    + BETA_EVA_CAFET * eva_8\\\n",
    "    + BETA_NO_DISTANCE_AV * distance_no_av_8 \\\n",
    "    + BETA_PRICE_STUDENT * lunch_price_min_student_8 \\\n",
    "    + BETA_PRICE_EMPLOYEE * lunch_price_min_employee_8 \\\n",
    "    + ALPHA * congestion[5]\n",
    "\n",
    "V9 = ASC_ATL \\\n",
    "    + BETA_DISTANCE * distance_9 \\\n",
    "    + BETA_EVA_SELF * eva_9\\\n",
    "    + BETA_NO_DISTANCE_AV * distance_no_av_9 \\\n",
    "    + BETA_PRICE_STUDENT * lunch_price_min_student_9 \\\n",
    "    + BETA_PRICE_EMPLOYEE * lunch_price_min_employee_9 \\\n",
    "    + ALPHA * congestion[6]\n",
    "\n",
    "V10 = ASC_COP \\\n",
    "    + BETA_DISTANCE * distance_10 \\\n",
    "    + BETA_EVA_REST * eva_10\\\n",
    "    + BETA_NO_DISTANCE_AV * distance_no_av_10 \\\n",
    "    + BETA_PRICE_STUDENT * lunch_price_min_student_10 \\\n",
    "    + BETA_PRICE_EMPLOYEE * lunch_price_min_employee_10 \\\n",
    "    + ALPHA * congestion[7]\n",
    "\n",
    "V11 = ASC_COR \\\n",
    "    + BETA_DISTANCE * distance_11 \\\n",
    "    + BETA_EVA_SELF * eva_11\\\n",
    "    + BETA_NO_DISTANCE_AV * distance_no_av_11 \\\n",
    "    + BETA_PRICE_STUDENT * lunch_price_min_student_11 \\\n",
    "    + BETA_PRICE_EMPLOYEE * lunch_price_min_employee_11 \\\n",
    "    + ALPHA * congestion[8]\n",
    "\n",
    "V12 = ASC_GIA \\\n",
    "    + BETA_DISTANCE * distance_12 \\\n",
    "    + BETA_EVA_CAFET * eva_12\\\n",
    "    + BETA_NO_DISTANCE_AV * distance_no_av_12 \\\n",
    "    + BETA_PRICE_STUDENT * lunch_price_min_student_12 \\\n",
    "    + BETA_PRICE_EMPLOYEE * lunch_price_min_employee_12 \\\n",
    "    + ALPHA * congestion[9]\n",
    "\n",
    "V13 = ASC_PAR \\\n",
    "    + BETA_DISTANCE * distance_13 \\\n",
    "    + BETA_EVA_SELF * eva_13\\\n",
    "    + BETA_NO_DISTANCE_AV * distance_no_av_13 \\\n",
    "    + BETA_PRICE_STUDENT * lunch_price_min_student_13 \\\n",
    "    + BETA_PRICE_EMPLOYEE * lunch_price_min_employee_13 \\\n",
    "    + ALPHA * congestion[10]\n",
    "\n",
    "V14 = ASC_VIN \\\n",
    "    + BETA_DISTANCE * distance_14 \\\n",
    "    + BETA_EVA_SELF * eva_14\\\n",
    "    + BETA_NO_DISTANCE_AV * distance_no_av_14 \\\n",
    "    + BETA_PRICE_STUDENT * lunch_price_min_student_14 \\\n",
    "    + BETA_PRICE_EMPLOYEE * lunch_price_min_employee_14 \\\n",
    "    + ALPHA * congestion[11]\n",
    "\n",
    "V15 = ASC_ESP \\\n",
    "    + BETA_DISTANCE * distance_15 \\\n",
    "    + BETA_EVA_SELF * eva_15\\\n",
    "    + BETA_NO_DISTANCE_AV * distance_no_av_15 \\\n",
    "    + BETA_PRICE_STUDENT * lunch_price_min_student_15 \\\n",
    "    + BETA_PRICE_EMPLOYEE * lunch_price_min_employee_15 \\\n",
    "    + ALPHA * congestion[12]\n",
    "\n",
    "V16 = ASC_ORN \\\n",
    "    + BETA_DISTANCE * distance_16 \\\n",
    "    + BETA_EVA_SELF * eva_16\\\n",
    "    + BETA_NO_DISTANCE_AV * distance_no_av_16 \\\n",
    "    + BETA_PRICE_STUDENT * lunch_price_min_student_16 \\\n",
    "    + BETA_PRICE_EMPLOYEE * lunch_price_min_employee_16 \\\n",
    "    + ALPHA * congestion[13]\n",
    "\n",
    "V17 = ASC_PIZ \\\n",
    "    + BETA_DISTANCE * distance_17 \\\n",
    "    + BETA_NO_DISTANCE_AV * distance_no_av_17 \\\n",
    "    + BETA_PRICE_STUDENT * lunch_price_min_student_17 \\\n",
    "    + BETA_PRICE_EMPLOYEE * lunch_price_min_employee_17 \\\n",
    "    + BETA_EVA_CARA * eva_17\\\n",
    "    + ALPHA * congestion[14]\n",
    "\n",
    "V18 = ASC_KEB \\\n",
    "    + BETA_DISTANCE * distance_18 \\\n",
    "    + BETA_NO_DISTANCE_AV * distance_no_av_18 \\\n",
    "    + BETA_PRICE_STUDENT * lunch_price_min_student_18 \\\n",
    "    + BETA_PRICE_EMPLOYEE * lunch_price_min_employee_18 \\\n",
    "    + BETA_EVA_CARA * eva_18\\\n",
    "    + ALPHA * congestion[15]\n",
    "\n",
    "V19 = ASC_SAT \\\n",
    "    + BETA_DISTANCE * distance_19 \\\n",
    "    + BETA_EVA_CAFET * eva_19\\\n",
    "    + BETA_NO_DISTANCE_AV * distance_no_av_19 \\\n",
    "    + BETA_PRICE_STUDENT * lunch_price_min_student_19 \\\n",
    "    + BETA_PRICE_EMPLOYEE * lunch_price_min_employee_19 \\\n",
    "    + ALPHA * congestion[16]\n",
    "\n",
    "V20 = ASC_HOD \\\n",
    "    + BETA_DISTANCE * distance_20 \\\n",
    "    + BETA_EVA_SELF * eva_20\\\n",
    "    + BETA_NO_DISTANCE_AV * distance_no_av_20 \\\n",
    "    + BETA_PRICE_STUDENT * lunch_price_min_student_20 \\\n",
    "    + BETA_PRICE_EMPLOYEE * lunch_price_min_employee_20 \\\n",
    "    + ALPHA * congestion[17]\n",
    "\n",
    "V21 = ASC_VAL \\\n",
    "    + BETA_DISTANCE * distance_21 \\\n",
    "    + BETA_NO_DISTANCE_AV * distance_no_av_21 \\\n",
    "    + BETA_PRICE_STUDENT * lunch_price_min_student_21 \\\n",
    "    + BETA_PRICE_EMPLOYEE * lunch_price_min_employee_21 \\\n",
    "    + BETA_EVA_REST * eva_21\\\n",
    "    + ALPHA * congestion[18]\n",
    "\n",
    "V_OPT = ASC_OPT\\\n",
    "      + ALPHA * congestion[19]"
   ]
  },
  {
   "cell_type": "code",
   "execution_count": 162,
   "metadata": {},
   "outputs": [],
   "source": [
    "V = {1: V1,\n",
    "     2: V2,\n",
    "     #3: V3,\n",
    "     4: V4,\n",
    "     5: V5,\n",
    "     6: V6,\n",
    "    # 7: V7,\n",
    "     8: V8,\n",
    "     9: V9,\n",
    "     10: V10,\n",
    "     11: V11,\n",
    "     12: V12,\n",
    "     13: V13,\n",
    "     14: V14,\n",
    "     15: V15,\n",
    "     16: V16,\n",
    "     17: V17,\n",
    "     18: V18,\n",
    "     19: V19,\n",
    "     20: V20,\n",
    "     21: V21,\n",
    "     22: V_OPT}\n",
    "av = {1: OPEN_AV_1,\n",
    "      2: OPEN_AV_2,\n",
    "     # 3: OPEN_AV_3,\n",
    "      4: OPEN_AV_4,\n",
    "      5: OPEN_AV_5,\n",
    "      6: OPEN_AV_6,\n",
    "      #7: OPEN_AV_7,\n",
    "      8: OPEN_AV_8,\n",
    "      9: OPEN_AV_9,\n",
    "      10: OPEN_AV_10,\n",
    "      11: OPEN_AV_11,\n",
    "      12: OPEN_AV_12,\n",
    "      13: OPEN_AV_13,\n",
    "      14: OPEN_AV_14,\n",
    "      15: OPEN_AV_15,\n",
    "      16: OPEN_AV_16,\n",
    "      17: OPEN_AV_17,\n",
    "      18: OPEN_AV_18,\n",
    "      19: OPEN_AV_19,\n",
    "      20: OPEN_AV_20,\n",
    "      21: OPEN_AV_21,\n",
    "      22: 1}"
   ]
  },
  {
   "cell_type": "code",
   "execution_count": 163,
   "metadata": {},
   "outputs": [],
   "source": [
    "weightedname = []\n",
    "unweightedname = []\n",
    "modelname = []\n",
    "for i in range(1,23):\n",
    "    weightedname.append('Weighted Prob '+ str(i) )\n",
    "    unweightedname.append('Prob '+ str(i) )\n",
    "    \n",
    "del weightedname[2]\n",
    "del unweightedname[2] \n",
    "del weightedname[5] \n",
    "del unweightedname[5]\n",
    "\n",
    "for i in range(1,26):   \n",
    "    modelname.append('Iter_' + str(i) )"
   ]
  },
  {
   "cell_type": "code",
   "execution_count": 164,
   "metadata": {
    "scrolled": true
   },
   "outputs": [],
   "source": [
    "logprob = bioLogLogit(V, av, CHOICE)\n",
    "#convergence \n",
    "eps = 1e-3\n",
    "biogeme = bio.BIOGEME(database,logprob)\n",
    "biogeme.modelName = modelname[0]\n",
    "result = biogeme.estimate()"
   ]
  },
  {
   "cell_type": "code",
   "execution_count": 74,
   "metadata": {},
   "outputs": [
    {
     "ename": "ValueError",
     "evalue": "operands could not be broadcast together with shapes (19,) (20,) ",
     "output_type": "error",
     "traceback": [
      "\u001b[0;31m---------------------------------------------------------------------------\u001b[0m",
      "\u001b[0;31mValueError\u001b[0m                                Traceback (most recent call last)",
      "\u001b[0;32m<ipython-input-74-580468bce39f>\u001b[0m in \u001b[0;36m<module>\u001b[0;34m\u001b[0m\n\u001b[1;32m     18\u001b[0m         \u001b[0msimulatedValues\u001b[0m\u001b[0;34m[\u001b[0m\u001b[0mweightedname\u001b[0m\u001b[0;34m[\u001b[0m\u001b[0mj\u001b[0m\u001b[0;34m]\u001b[0m\u001b[0;34m]\u001b[0m \u001b[0;34m=\u001b[0m \u001b[0msimulatedValues\u001b[0m\u001b[0;34m[\u001b[0m\u001b[0;34m'weight'\u001b[0m\u001b[0;34m]\u001b[0m \u001b[0;34m*\u001b[0m \u001b[0msimulatedValues\u001b[0m\u001b[0;34m[\u001b[0m\u001b[0munweightedname\u001b[0m\u001b[0;34m[\u001b[0m\u001b[0mj\u001b[0m\u001b[0;34m]\u001b[0m\u001b[0;34m]\u001b[0m\u001b[0;34m\u001b[0m\u001b[0;34m\u001b[0m\u001b[0m\n\u001b[1;32m     19\u001b[0m         \u001b[0mmarketshare\u001b[0m\u001b[0;34m.\u001b[0m\u001b[0mappend\u001b[0m\u001b[0;34m(\u001b[0m\u001b[0;36m10\u001b[0m \u001b[0;34m*\u001b[0m \u001b[0msimulatedValues\u001b[0m\u001b[0;34m[\u001b[0m\u001b[0mweightedname\u001b[0m\u001b[0;34m[\u001b[0m\u001b[0mj\u001b[0m\u001b[0;34m]\u001b[0m\u001b[0;34m]\u001b[0m\u001b[0;34m.\u001b[0m\u001b[0msum\u001b[0m\u001b[0;34m(\u001b[0m\u001b[0;34m)\u001b[0m\u001b[0;34m)\u001b[0m\u001b[0;34m\u001b[0m\u001b[0;34m\u001b[0m\u001b[0m\n\u001b[0;32m---> 20\u001b[0;31m     \u001b[0;32mif\u001b[0m \u001b[0msum\u001b[0m\u001b[0;34m(\u001b[0m\u001b[0mnp\u001b[0m\u001b[0;34m.\u001b[0m\u001b[0msquare\u001b[0m\u001b[0;34m(\u001b[0m\u001b[0mnp\u001b[0m\u001b[0;34m.\u001b[0m\u001b[0marray\u001b[0m\u001b[0;34m(\u001b[0m\u001b[0mmarketshare\u001b[0m\u001b[0;34m)\u001b[0m \u001b[0;34m-\u001b[0m \u001b[0mnp\u001b[0m\u001b[0;34m.\u001b[0m\u001b[0marray\u001b[0m\u001b[0;34m(\u001b[0m\u001b[0mmarketshare_pre\u001b[0m\u001b[0;34m)\u001b[0m\u001b[0;34m)\u001b[0m\u001b[0;34m)\u001b[0m \u001b[0;34m<\u001b[0m \u001b[0meps\u001b[0m\u001b[0;34m:\u001b[0m\u001b[0;34m\u001b[0m\u001b[0;34m\u001b[0m\u001b[0m\n\u001b[0m\u001b[1;32m     21\u001b[0m         \u001b[0;32mbreak\u001b[0m\u001b[0;34m\u001b[0m\u001b[0;34m\u001b[0m\u001b[0m\n\u001b[1;32m     22\u001b[0m     \u001b[0mcongestion\u001b[0m \u001b[0;34m=\u001b[0m \u001b[0mreturn_cong\u001b[0m\u001b[0;34m(\u001b[0m\u001b[0mmarketshare\u001b[0m\u001b[0;34m,\u001b[0m \u001b[0maveragetime\u001b[0m\u001b[0;34m,\u001b[0m \u001b[0;36m12610\u001b[0m\u001b[0;34m)\u001b[0m\u001b[0;34m\u001b[0m\u001b[0;34m\u001b[0m\u001b[0m\n",
      "\u001b[0;31mValueError\u001b[0m: operands could not be broadcast together with shapes (19,) (20,) "
     ]
    }
   ],
   "source": [
    "#convergence \n",
    "eps = 1e-3\n",
    "\n",
    "for i in range(25):\n",
    "    #estimate the model\n",
    "    logprob = bioLogLogit(V, av, CHOICE)\n",
    "    biogeme = bio.BIOGEME(database,logprob)\n",
    "    biogeme.modelName = modelname[i]\n",
    "    result = biogeme.estimate()\n",
    "    #get the beta values\n",
    "    betaValue = result.getBetaValues()\n",
    "    biogeme = bio.BIOGEME(database, simulate)\n",
    "    simulatedValues = biogeme.simulate(betaValue)\n",
    "    marketshare_pre = marketshare\n",
    "    marketshare = []\n",
    "    #for each alternative, calculate weighted share\n",
    "    for j in range(21):\n",
    "        simulatedValues[weightedname[j]] = simulatedValues['weight'] * simulatedValues[unweightedname[j]]\n",
    "        marketshare.append(10 * simulatedValues[weightedname[j]].sum()) \n",
    "    if sum(np.square(np.array(marketshare) - np.array(marketshare_pre))) < eps:\n",
    "        break\n",
    "    congestion = return_cong(marketshare, averagetime, 12610)"
   ]
  },
  {
   "cell_type": "code",
   "execution_count": 165,
   "metadata": {},
   "outputs": [],
   "source": [
    "V1 = BETA_DISTANCE * distance_1 \\\n",
    "    + BETA_NO_DISTANCE_AV * distance_no_av_1 \\\n",
    "    + BETA_EVA_CAFET * eva_1 \\\n",
    "    + BETA_PRICE_STUDENT * lunch_price_min_student_1 \\\n",
    "    + BETA_PRICE_EMPLOYEE * lunch_price_min_employee_1 \\\n",
    "    + ALPHA * congestion[0] \n",
    "\n",
    "V2 = BETA_DISTANCE * distance_2 \\\n",
    "    + BETA_EVA_SELF * eva_2 \\\n",
    "    + BETA_NO_DISTANCE_AV * distance_no_av_2 \\\n",
    "    + BETA_PRICE_STUDENT * lunch_price_min_student_2 \\\n",
    "    + BETA_PRICE_EMPLOYEE * lunch_price_min_employee_2 \\\n",
    "    + ALPHA * congestion[1]\n",
    "\n",
    "#V3 = ASC_BM \\\n",
    "#    + BETA_NO_DISTANCE_AV * distance_no_av_3 \\\n",
    " #   + BETA_DISTANCE * distance_3 \\\n",
    "  #  + BETA_NO_PRICE * 1 * self_cafet * lunch\n",
    "\n",
    "V4 = BETA_DISTANCE * distance_4 \\\n",
    "    + BETA_EVA_CAFET * eva_4 \\\n",
    "    + BETA_NO_DISTANCE_AV * distance_no_av_4 \\\n",
    "    + BETA_PRICE_STUDENT * lunch_price_min_student_4 \\\n",
    "    + BETA_PRICE_EMPLOYEE * lunch_price_min_employee_4 \\\n",
    "    + ALPHA * congestion[2]\n",
    "\n",
    "V5 = BETA_DISTANCE * distance_5 \\\n",
    "    + BETA_EVA_CAFET * eva_5 \\\n",
    "    + BETA_NO_DISTANCE_AV * distance_no_av_5 \\\n",
    "    + BETA_PRICE_STUDENT * lunch_price_min_student_5 \\\n",
    "    + BETA_PRICE_EMPLOYEE * lunch_price_min_employee_5 \\\n",
    "    + ALPHA * congestion[3]\n",
    "\n",
    "V6 = BETA_DISTANCE * distance_6 \\\n",
    "    + BETA_EVA_CAFET * eva_6\\\n",
    "    + BETA_NO_DISTANCE_AV * distance_no_av_6 \\\n",
    "    + BETA_PRICE_STUDENT * lunch_price_min_student_6 \\\n",
    "    + BETA_PRICE_EMPLOYEE * lunch_price_min_employee_6 \\\n",
    "    + ALPHA * congestion[4]\n",
    "\n",
    "#V7 = ASC_PH \\\n",
    " #   + BETA_NO_DISTANCE_AV * distance_no_av_7 \\\n",
    " #   + BETA_DISTANCE * distance_7 \\\n",
    " #   + BETA_NO_PRICE * 1 * self_cafet * lunch\n",
    "\n",
    "V8 = BETA_DISTANCE * distance_8 \\\n",
    "    + BETA_EVA_CAFET * eva_8\\\n",
    "    + BETA_NO_DISTANCE_AV * distance_no_av_8 \\\n",
    "    + BETA_PRICE_STUDENT * lunch_price_min_student_8 \\\n",
    "    + BETA_PRICE_EMPLOYEE * lunch_price_min_employee_8 \\\n",
    "    + ALPHA * congestion[5]\n",
    "\n",
    "V9 = BETA_DISTANCE * distance_9 \\\n",
    "    + BETA_EVA_SELF * eva_9\\\n",
    "    + BETA_NO_DISTANCE_AV * distance_no_av_9 \\\n",
    "    + BETA_PRICE_STUDENT * lunch_price_min_student_9 \\\n",
    "    + BETA_PRICE_EMPLOYEE * lunch_price_min_employee_9 \\\n",
    "    + ALPHA * congestion[6]\n",
    "\n",
    "V10 = BETA_DISTANCE * distance_10 \\\n",
    "    + BETA_EVA_REST * eva_10\\\n",
    "    + BETA_NO_DISTANCE_AV * distance_no_av_10 \\\n",
    "    + BETA_PRICE_STUDENT * lunch_price_min_student_10 \\\n",
    "    + BETA_PRICE_EMPLOYEE * lunch_price_min_employee_10 \\\n",
    "    + ALPHA * congestion[7]\n",
    "\n",
    "V11 = BETA_DISTANCE * distance_11 \\\n",
    "    + BETA_EVA_SELF * eva_11\\\n",
    "    + BETA_NO_DISTANCE_AV * distance_no_av_11 \\\n",
    "    + BETA_PRICE_STUDENT * lunch_price_min_student_11 \\\n",
    "    + BETA_PRICE_EMPLOYEE * lunch_price_min_employee_11 \\\n",
    "    + ALPHA * congestion[8]\n",
    "\n",
    "V12 = BETA_DISTANCE * distance_12 \\\n",
    "    + BETA_EVA_CAFET * eva_12\\\n",
    "    + BETA_NO_DISTANCE_AV * distance_no_av_12 \\\n",
    "    + BETA_PRICE_STUDENT * lunch_price_min_student_12 \\\n",
    "    + BETA_PRICE_EMPLOYEE * lunch_price_min_employee_12 \\\n",
    "    + ALPHA * congestion[9]\n",
    "\n",
    "V13 = BETA_DISTANCE * distance_13 \\\n",
    "    + BETA_EVA_SELF * eva_13\\\n",
    "    + BETA_NO_DISTANCE_AV * distance_no_av_13 \\\n",
    "    + BETA_PRICE_STUDENT * lunch_price_min_student_13 \\\n",
    "    + BETA_PRICE_EMPLOYEE * lunch_price_min_employee_13 \\\n",
    "    + ALPHA * congestion[10]\n",
    "\n",
    "V14 = BETA_DISTANCE * distance_14 \\\n",
    "    + BETA_EVA_SELF * eva_14\\\n",
    "    + BETA_NO_DISTANCE_AV * distance_no_av_14 \\\n",
    "    + BETA_PRICE_STUDENT * lunch_price_min_student_14 \\\n",
    "    + BETA_PRICE_EMPLOYEE * lunch_price_min_employee_14 \\\n",
    "    + ALPHA * congestion[11]\n",
    "\n",
    "V15 = BETA_DISTANCE * distance_15 \\\n",
    "    + BETA_EVA_SELF * eva_15\\\n",
    "    + BETA_NO_DISTANCE_AV * distance_no_av_15 \\\n",
    "    + BETA_PRICE_STUDENT * lunch_price_min_student_15 \\\n",
    "    + BETA_PRICE_EMPLOYEE * lunch_price_min_employee_15 \\\n",
    "    + ALPHA * congestion[12]\n",
    "\n",
    "V16 = BETA_DISTANCE * distance_16 \\\n",
    "    + BETA_EVA_SELF * eva_16\\\n",
    "    + BETA_NO_DISTANCE_AV * distance_no_av_16 \\\n",
    "    + BETA_PRICE_STUDENT * lunch_price_min_student_16 \\\n",
    "    + BETA_PRICE_EMPLOYEE * lunch_price_min_employee_16 \\\n",
    "    + ALPHA * congestion[13]\n",
    "\n",
    "V17 = BETA_DISTANCE * distance_17 \\\n",
    "    + BETA_NO_DISTANCE_AV * distance_no_av_17 \\\n",
    "    + BETA_PRICE_STUDENT * lunch_price_min_student_17 \\\n",
    "    + BETA_PRICE_EMPLOYEE * lunch_price_min_employee_17 \\\n",
    "    + BETA_EVA_CARA * eva_17\\\n",
    "    + ALPHA * congestion[14]\n",
    "\n",
    "V18 = BETA_DISTANCE * distance_18 \\\n",
    "    + BETA_NO_DISTANCE_AV * distance_no_av_18 \\\n",
    "    + BETA_PRICE_STUDENT * lunch_price_min_student_18 \\\n",
    "    + BETA_PRICE_EMPLOYEE * lunch_price_min_employee_18 \\\n",
    "    + BETA_EVA_CARA * eva_18\\\n",
    "    + ALPHA * congestion[15]\n",
    "\n",
    "V19 = BETA_DISTANCE * distance_19 \\\n",
    "    + BETA_EVA_CAFET * eva_19\\\n",
    "    + BETA_NO_DISTANCE_AV * distance_no_av_19 \\\n",
    "    + BETA_PRICE_STUDENT * lunch_price_min_student_19 \\\n",
    "    + BETA_PRICE_EMPLOYEE * lunch_price_min_employee_19 \\\n",
    "    + ALPHA * congestion[16]\n",
    "\n",
    "V20 = BETA_DISTANCE * distance_20 \\\n",
    "    + BETA_EVA_SELF * eva_20\\\n",
    "    + BETA_NO_DISTANCE_AV * distance_no_av_20 \\\n",
    "    + BETA_PRICE_STUDENT * lunch_price_min_student_20 \\\n",
    "    + BETA_PRICE_EMPLOYEE * lunch_price_min_employee_20 \\\n",
    "    + ALPHA * congestion[17]\n",
    "\n",
    "V21 = BETA_DISTANCE * distance_21 \\\n",
    "    + BETA_NO_DISTANCE_AV * distance_no_av_21 \\\n",
    "    + BETA_PRICE_STUDENT * lunch_price_min_student_21 \\\n",
    "    + BETA_PRICE_EMPLOYEE * lunch_price_min_employee_21 \\\n",
    "    + BETA_EVA_REST * eva_21\\\n",
    "    + ALPHA * congestion[18]\n",
    "\n",
    "V_OPT = ASC_OPT\\\n",
    "      + ALPHA * congestion[19]"
   ]
  },
  {
   "cell_type": "code",
   "execution_count": 166,
   "metadata": {},
   "outputs": [],
   "source": [
    "V = {1: V1,\n",
    "     2: V2,\n",
    "     #3: V3,\n",
    "     4: V4,\n",
    "     5: V5,\n",
    "     6: V6,\n",
    "    # 7: V7,\n",
    "     8: V8,\n",
    "     9: V9,\n",
    "     10: V10,\n",
    "     11: V11,\n",
    "     12: V12,\n",
    "     13: V13,\n",
    "     14: V14,\n",
    "     15: V15,\n",
    "     16: V16,\n",
    "     17: V17,\n",
    "     18: V18,\n",
    "     19: V19,\n",
    "     20: V20,\n",
    "     21: V21,\n",
    "     22: V_OPT}\n",
    "av = {1: OPEN_AV_1,\n",
    "      2: OPEN_AV_2,\n",
    "     # 3: OPEN_AV_3,\n",
    "      4: OPEN_AV_4,\n",
    "      5: OPEN_AV_5,\n",
    "      6: OPEN_AV_6,\n",
    "      #7: OPEN_AV_7,\n",
    "      8: OPEN_AV_8,\n",
    "      9: OPEN_AV_9,\n",
    "      10: OPEN_AV_10,\n",
    "      11: OPEN_AV_11,\n",
    "      12: OPEN_AV_12,\n",
    "      13: OPEN_AV_13,\n",
    "      14: OPEN_AV_14,\n",
    "      15: OPEN_AV_15,\n",
    "      16: OPEN_AV_16,\n",
    "      17: OPEN_AV_17,\n",
    "      18: OPEN_AV_18,\n",
    "      19: OPEN_AV_19,\n",
    "      20: OPEN_AV_20,\n",
    "      21: OPEN_AV_21,\n",
    "      22: 1}"
   ]
  },
  {
   "cell_type": "code",
   "execution_count": 167,
   "metadata": {},
   "outputs": [],
   "source": [
    "prob_1 = models.logit(V,av,1)\n",
    "prob_2 = models.logit(V,av,2)\n",
    "#prob_3 = models.logit(V,av,3)\n",
    "prob_4 = models.logit(V,av,4)\n",
    "prob_5 = models.logit(V,av,5)\n",
    "prob_6 = models.logit(V,av,6)\n",
    "#prob_7 = models.logit(V,av,7)\n",
    "prob_8 = models.logit(V,av,8)\n",
    "prob_9 = models.logit(V,av,9)\n",
    "prob_10 = models.logit(V,av,10)\n",
    "prob_11 = models.logit(V,av,11)\n",
    "prob_12 = models.logit(V,av,12)\n",
    "prob_13 = models.logit(V,av,13)\n",
    "prob_14 = models.logit(V,av,14)\n",
    "prob_15 = models.logit(V,av,15)\n",
    "prob_16 = models.logit(V,av,16)\n",
    "prob_17 = models.logit(V,av,17)\n",
    "prob_18 = models.logit(V,av,18)\n",
    "prob_19 = models.logit(V,av,19)\n",
    "prob_20 = models.logit(V,av,20)\n",
    "prob_21 = models.logit(V,av,21)\n",
    "prob_22 = models.logit(V,av,22)\n",
    "weight = STUDENT * (DAY_WEEK / 4420.12 * 7117) / 12610 + (1 - STUDENT) * (SEMESTER / 7026 * 5493) / 12610\n",
    "\n",
    "simulate = {'Prob 1' : prob_1,\n",
    "           'Prob 2' : prob_2,\n",
    "           #'Prob 3' : prob_3,\n",
    "            'Prob 4' : prob_4,\n",
    "            'Prob 5' : prob_5,\n",
    "            'Prob 6' : prob_6,\n",
    "           # 'Prob 7' : prob_7,\n",
    "            'Prob 8' : prob_8,\n",
    "            'Prob 9' : prob_9,\n",
    "            'Prob 10' : prob_10,\n",
    "            'Prob 11' : prob_11,\n",
    "            'Prob 12' : prob_12,\n",
    "            'Prob 13' : prob_13,\n",
    "            'Prob 14' : prob_14,\n",
    "            'Prob 15' : prob_15,\n",
    "            'Prob 16' : prob_16,\n",
    "            'Prob 17' : prob_17,\n",
    "            'Prob 18' : prob_18,\n",
    "            'Prob 19' : prob_19,\n",
    "            'Prob 20' : prob_20,\n",
    "            'Prob 21' : prob_21,\n",
    "            'Prob 22' : prob_22,\n",
    "            'weight' : weight}"
   ]
  },
  {
   "cell_type": "code",
   "execution_count": 168,
   "metadata": {},
   "outputs": [],
   "source": [
    "betaValue = result.getBetaValues()\n",
    "biogeme = bio.BIOGEME(database_estimate, simulate)\n",
    "simulatedValues = biogeme.simulate(betaValue)\n",
    "marketshare_pre = marketshare\n",
    "marketshare = []"
   ]
  },
  {
   "cell_type": "code",
   "execution_count": 169,
   "metadata": {},
   "outputs": [],
   "source": [
    "#for each alternative, calculate weighted share\n",
    "for j in range(20):\n",
    "    simulatedValues[weightedname[j]] = simulatedValues['weight'] * simulatedValues[unweightedname[j]]\n",
    "    marketshare.append(10 * simulatedValues[weightedname[j]].sum())"
   ]
  },
  {
   "cell_type": "code",
   "execution_count": 76,
   "metadata": {},
   "outputs": [
    {
     "data": {
      "text/plain": [
       "array([0.21080437, 2.37766916, 0.40353041, 1.05242472, 0.66710884,\n",
       "       1.03710123, 3.11890778, 0.2494258 , 0.64649689, 0.3257897 ,\n",
       "       1.19017113, 0.8253435 , 0.90361763, 1.14839414, 0.98811735,\n",
       "       0.98811735, 0.3715808 , 2.06477412, 0.2048547 , 0.98811735])"
      ]
     },
     "execution_count": 76,
     "metadata": {},
     "output_type": "execute_result"
    }
   ],
   "source": [
    "congestion"
   ]
  },
  {
   "cell_type": "code",
   "execution_count": 130,
   "metadata": {},
   "outputs": [
    {
     "data": {
      "text/plain": [
       "array([ 1.285,  6.395,  1.558,  1.234,  0.758,  1.8  , 12.551,  0.989,\n",
       "        7.975,  1.135, 11.91 , 13.331, 11.712, 10.576,  1.803,  2.149,\n",
       "        1.953,  8.596,  0.35 ,  1.94 ])"
      ]
     },
     "execution_count": 130,
     "metadata": {},
     "output_type": "execute_result"
    }
   ],
   "source": [
    "marketshare_pre"
   ]
  },
  {
   "cell_type": "code",
   "execution_count": 131,
   "metadata": {},
   "outputs": [
    {
     "data": {
      "text/plain": [
       "array([ 2.08170143,  3.84108992,  2.04541299,  1.21849846,  0.89278358,\n",
       "        1.71457993,  4.6063131 ,  1.19669758, 10.57600088,  1.52728255,\n",
       "       12.32810009, 16.90929888, 13.84813763, 10.88708578,  2.18128356,\n",
       "        2.524943  ,  2.67523885,  6.11534541,  0.46891945,  2.36128541])"
      ]
     },
     "execution_count": 131,
     "metadata": {},
     "output_type": "execute_result"
    }
   ],
   "source": [
    "np.array(marketshare) * 10  #iter_1"
   ]
  },
  {
   "cell_type": "code",
   "execution_count": 132,
   "metadata": {},
   "outputs": [
    {
     "data": {
      "text/plain": [
       "26.160344844356427"
      ]
     },
     "execution_count": 132,
     "metadata": {},
     "output_type": "execute_result"
    }
   ],
   "source": [
    "sum(np.abs(np.array(marketshare) * 10 - np.array(marketshare_pre))) "
   ]
  },
  {
   "cell_type": "code",
   "execution_count": 143,
   "metadata": {},
   "outputs": [
    {
     "data": {
      "text/plain": [
       "array([ 1.34042321,  6.27799643,  1.58567151,  1.20695219,  0.7560762 ,\n",
       "        1.7624322 , 12.5490652 ,  0.99411677,  8.14503284,  1.16290894,\n",
       "       11.80294362, 13.43253077, 11.75988098, 10.53602274,  1.81485931,\n",
       "        2.15777033,  1.99308556,  8.41366091,  0.35516048,  1.95340832])"
      ]
     },
     "execution_count": 143,
     "metadata": {},
     "output_type": "execute_result"
    }
   ],
   "source": [
    "np.array(marketshare) * 10  #iter_2"
   ]
  },
  {
   "cell_type": "code",
   "execution_count": 144,
   "metadata": {},
   "outputs": [
    {
     "data": {
      "text/plain": [
       "[0.20817014333019798,\n",
       " 0.3841089917081395,\n",
       " 0.20454129940676463,\n",
       " 0.12184984606883875,\n",
       " 0.08927835812317932,\n",
       " 0.17145799336243156,\n",
       " 0.46063131041887606,\n",
       " 0.11966975783762332,\n",
       " 1.0576000881423344,\n",
       " 0.1527282551852237,\n",
       " 1.2328100088022678,\n",
       " 1.690929887763215,\n",
       " 1.3848137629389679,\n",
       " 1.0887085779140326,\n",
       " 0.21812835563264082,\n",
       " 0.2524943001194269,\n",
       " 0.2675238854408006,\n",
       " 0.6115345414070975,\n",
       " 0.04689194529003172,\n",
       " 0.23612854147431914]"
      ]
     },
     "execution_count": 144,
     "metadata": {},
     "output_type": "execute_result"
    }
   ],
   "source": [
    "marketshare_pre"
   ]
  },
  {
   "cell_type": "code",
   "execution_count": 145,
   "metadata": {},
   "outputs": [
    {
     "data": {
      "text/plain": [
       "25.451652727362955"
      ]
     },
     "execution_count": 145,
     "metadata": {},
     "output_type": "execute_result"
    }
   ],
   "source": [
    "sum(np.abs(np.array(marketshare) - np.array(marketshare_pre))) * 10"
   ]
  },
  {
   "cell_type": "code",
   "execution_count": 156,
   "metadata": {},
   "outputs": [
    {
     "data": {
      "text/plain": [
       "array([ 2.0731853 ,  3.8645476 ,  2.03667217,  1.22249416,  0.88975343,\n",
       "        1.72173527,  4.49008614,  1.19722282, 10.55671376,  1.52290961,\n",
       "       12.38649162, 16.91038814, 13.85115738, 10.90873003,  2.18022634,\n",
       "        2.52492497,  2.66568249,  6.16850006,  0.46787384,  2.36070336])"
      ]
     },
     "execution_count": 156,
     "metadata": {},
     "output_type": "execute_result"
    }
   ],
   "source": [
    "np.array(marketshare) * 10  #iter_2"
   ]
  },
  {
   "cell_type": "code",
   "execution_count": 157,
   "metadata": {},
   "outputs": [
    {
     "data": {
      "text/plain": [
       "array([ 0.07327621, -0.24134488,  0.04510007,  0.0015542 ,  0.01336772,\n",
       "       -0.00406969, -0.80589791,  0.02031061,  0.24116809,  0.03600007,\n",
       "        0.0583548 ,  0.34778574,  0.20912764,  0.03727073,  0.0365367 ,\n",
       "        0.03671546,  0.06725969, -0.22451609,  0.01127134,  0.0407295 ])"
      ]
     },
     "execution_count": 157,
     "metadata": {},
     "output_type": "execute_result"
    }
   ],
   "source": [
    "np.array(marketshare) - np.array(marketshare_pre)"
   ]
  },
  {
   "cell_type": "code",
   "execution_count": 158,
   "metadata": {},
   "outputs": [
    {
     "data": {
      "text/plain": [
       "25.51657133586034"
      ]
     },
     "execution_count": 158,
     "metadata": {},
     "output_type": "execute_result"
    }
   ],
   "source": [
    "sum(np.abs(np.array(marketshare) - np.array(marketshare_pre))) * 10 "
   ]
  },
  {
   "cell_type": "code",
   "execution_count": 170,
   "metadata": {},
   "outputs": [
    {
     "data": {
      "text/plain": [
       "array([ 1.32449962,  6.31128265,  1.57893568,  1.21675   ,  0.75771802,\n",
       "        1.77534846, 12.56723942,  0.99243336,  8.09014372,  1.15515136,\n",
       "       11.82994427, 13.39687761, 11.74253592, 10.5450965 ,  1.81115287,\n",
       "        2.15475744,  1.98273595,  8.46481529,  0.35361938,  1.948961  ])"
      ]
     },
     "execution_count": 170,
     "metadata": {},
     "output_type": "execute_result"
    }
   ],
   "source": [
    "np.array(marketshare) * 10  #iter_3"
   ]
  },
  {
   "cell_type": "code",
   "execution_count": 171,
   "metadata": {},
   "outputs": [
    {
     "data": {
      "text/plain": [
       "25.747633528129793"
      ]
     },
     "execution_count": 171,
     "metadata": {},
     "output_type": "execute_result"
    }
   ],
   "source": [
    "sum(np.abs(np.array(marketshare) - np.array(marketshare_pre))) * 10 "
   ]
  },
  {
   "cell_type": "code",
   "execution_count": null,
   "metadata": {},
   "outputs": [],
   "source": []
  }
 ],
 "metadata": {
  "kernelspec": {
   "display_name": "Python 3",
   "language": "python",
   "name": "python3"
  },
  "language_info": {
   "codemirror_mode": {
    "name": "ipython",
    "version": 3
   },
   "file_extension": ".py",
   "mimetype": "text/x-python",
   "name": "python",
   "nbconvert_exporter": "python",
   "pygments_lexer": "ipython3",
   "version": "3.7.1"
  }
 },
 "nbformat": 4,
 "nbformat_minor": 2
}
